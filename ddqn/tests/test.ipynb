{
 "cells": [
  {
   "cell_type": "code",
   "outputs": [
    {
     "name": "stdout",
     "output_type": "stream",
     "text": [
      "The autoreload extension is already loaded. To reload it, use:\n",
      "  %reload_ext autoreload\n"
     ]
    }
   ],
   "source": [
    "from data_gather import environment, experience_replay, simulator\n",
    "from model import qmodel\n",
    "\n",
    "%load_ext autoreload\n",
    "%autoreload 2"
   ],
   "metadata": {
    "collapsed": false,
    "ExecuteTime": {
     "end_time": "2024-11-30T08:25:36.788199800Z",
     "start_time": "2024-11-30T08:25:36.578310300Z"
    }
   },
   "id": "afbb037263dd8e7b",
   "execution_count": 58
  },
  {
   "cell_type": "code",
   "outputs": [],
   "source": [
    "env = environment.Environment(20, (5, 5), (15, 15))"
   ],
   "metadata": {
    "collapsed": false,
    "ExecuteTime": {
     "end_time": "2024-11-30T05:00:19.723689400Z",
     "start_time": "2024-11-30T05:00:19.632701700Z"
    }
   },
   "id": "e3602b3822d6e791",
   "execution_count": 23
  },
  {
   "cell_type": "code",
   "outputs": [
    {
     "name": "stdout",
     "output_type": "stream",
     "text": [
      "tensor([0, 0, 0, 0, 0, 0, 0, 0, 0, 0, 0, 0, 0, 0, 0, 0, 0, 0, 0, 0, 0, 0, 0, 0,\n",
      "        0, 0, 0, 0, 0, 0, 0, 0, 0, 0, 0, 0, 0, 0, 0, 0, 0, 0, 0, 0, 0, 0, 0, 0,\n",
      "        0, 0, 0, 0, 0, 0, 0, 0, 0, 0, 0, 0, 0, 0, 0, 0, 0, 0, 0, 0, 0, 0, 0, 0,\n",
      "        0, 0, 0, 0, 0, 0, 0, 0, 0, 0, 0, 0, 0, 0, 0, 0, 0, 0, 0, 0, 0, 0, 0, 0,\n",
      "        0, 0, 0, 0, 0, 0, 0, 0, 0, 0, 0, 0, 0, 0, 0, 0, 0, 0, 0, 0, 0, 0, 0, 0,\n",
      "        0, 0, 0, 0, 0, 0, 0, 0, 0, 0, 0, 0, 0, 0, 0, 0, 0, 0, 0, 0, 0, 0, 0, 0,\n",
      "        0, 0, 0, 0, 0, 0, 0, 0, 0, 0, 0, 0, 0, 0, 0, 0, 0, 0, 0, 0, 0, 0, 0, 0,\n",
      "        0, 0, 0, 0, 0, 0, 0, 0, 0, 0, 0, 0, 0, 0, 0, 0, 0, 0, 0, 0, 0, 0, 0, 0,\n",
      "        0, 0, 0, 0, 0, 0, 0, 0, 0, 0, 0, 0, 0, 0, 0, 0, 0, 0, 0, 0, 0, 0, 0, 0,\n",
      "        0, 0, 0, 0, 0, 0, 0, 0, 0, 0, 0, 0, 0, 0, 0, 0, 0, 0, 0, 0, 0, 0, 0, 0,\n",
      "        0, 0, 0, 0, 0, 0, 0, 0, 0, 0, 0, 0, 0, 0, 0, 0, 0, 0, 0, 0, 0, 0, 0, 0,\n",
      "        0, 0, 0, 0, 0, 0, 0, 0, 0, 0, 0, 0, 0, 0, 0, 0, 0, 0, 0, 0, 0, 0, 0, 0,\n",
      "        0, 0, 0, 0, 0, 0, 0, 0, 0, 0, 0, 0, 0, 0, 0, 0, 0, 0, 0, 0, 0, 0, 0, 0,\n",
      "        0, 0, 0, 0, 0, 0, 0, 0, 0, 0, 0, 0, 0, 0, 0, 0, 0, 0, 0, 0, 0, 0, 0, 0,\n",
      "        0, 0, 0, 0, 0, 0, 0, 0, 0, 0, 0, 0, 0, 0, 0, 0, 0, 0, 0, 0, 0, 0, 0, 0,\n",
      "        0, 0, 0, 0, 0, 0, 0, 0, 0, 0, 0, 0, 0, 0, 0, 0, 0, 0, 0, 0, 0, 0, 0, 0,\n",
      "        0, 0, 0, 0, 0, 0, 0, 0, 0, 0, 0, 0, 0, 0, 0, 0, 0, 0, 1, 1, 0, 1, 0, 0,\n",
      "        1, 1, 0, 0, 1, 1, 1, 0, 1, 1], dtype=torch.uint8)\n"
     ]
    }
   ],
   "source": [
    "print(env.get_state())"
   ],
   "metadata": {
    "collapsed": false,
    "ExecuteTime": {
     "end_time": "2024-11-30T05:00:19.816496Z",
     "start_time": "2024-11-30T05:00:19.724999700Z"
    }
   },
   "id": "28b10cd64fc9efea",
   "execution_count": 24
  },
  {
   "cell_type": "code",
   "outputs": [],
   "source": [
    "import torch\n",
    "\n",
    "class A:\n",
    "    \n",
    "    def predict(self, state):\n",
    "        z = torch.zeros(4)\n",
    "        z[0] = 1\n",
    "        return z\n",
    "        "
   ],
   "metadata": {
    "collapsed": false,
    "ExecuteTime": {
     "end_time": "2024-11-30T05:00:19.910334100Z",
     "start_time": "2024-11-30T05:00:19.818822300Z"
    }
   },
   "id": "dff35293e6063839",
   "execution_count": 25
  },
  {
   "cell_type": "code",
   "outputs": [
    {
     "name": "stdout",
     "output_type": "stream",
     "text": [
      "(True, [(tensor([0, 0, 0, 0, 0, 0, 0, 0, 0, 0, 0, 0, 0, 0, 0, 0, 0, 1, 0, 1, 1, 1, 1, 1],\n",
      "       dtype=torch.uint8), tensor([1., 0., 0., 0.]), tensor([1., 0., 0., 0.]), 0, tensor([0, 0, 0, 0, 0, 1, 0, 0, 0, 0, 0, 0, 0, 0, 0, 1, 0, 0, 0, 1, 1, 0, 1, 1],\n",
      "       dtype=torch.uint8))])\n"
     ]
    }
   ],
   "source": [
    "policy = A()\n",
    "env = environment.Environment(4, (1, 1), (3, 3))\n",
    "print(env.step(policy))"
   ],
   "metadata": {
    "collapsed": false,
    "ExecuteTime": {
     "end_time": "2024-11-30T05:00:20.003812100Z",
     "start_time": "2024-11-30T05:00:19.912582300Z"
    }
   },
   "id": "1148cc40a3cdcac9",
   "execution_count": 26
  },
  {
   "cell_type": "code",
   "outputs": [
    {
     "name": "stdout",
     "output_type": "stream",
     "text": [
      "(False, [(tensor([0, 0, 0, 0, 0, 1, 0, 0, 0, 0, 0, 0, 0, 0, 0, 0, 1, 1, 1, 1, 0, 0, 0, 1],\n",
      "       dtype=torch.uint8), tensor([1., 0., 0., 0.]), tensor([1., 0., 0., 0.]), 1, tensor([0, 0, 0, 0, 0, 0, 0, 0, 0, 0, 0, 0, 0, 0, 0, 0, 0, 0, 0, 0, 0, 0, 0, 0],\n",
      "       dtype=torch.uint8)), (tensor([0, 0, 0, 0, 0, 1, 0, 0, 0, 0, 0, 0, 0, 0, 0, 1, 0, 0, 0, 1, 1, 0, 1, 1],\n",
      "       dtype=torch.uint8), tensor([1., 0., 0., 0.]), tensor([1, 0, 0, 0], dtype=torch.uint8), -1, tensor([0, 0, 0, 0, 0, 0, 0, 0, 0, 0, 0, 0, 0, 0, 0, 0, 0, 0, 0, 0, 0, 0, 0, 0],\n",
      "       dtype=torch.uint8)), (tensor([0, 0, 0, 0, 0, 1, 0, 0, 0, 0, 0, 0, 0, 0, 0, 1, 0, 0, 0, 1, 1, 0, 1, 1],\n",
      "       dtype=torch.uint8), tensor([1., 0., 0., 0.]), tensor([0, 1, 0, 0], dtype=torch.uint8), -1, tensor([0, 0, 0, 0, 0, 0, 0, 0, 0, 0, 0, 0, 0, 0, 0, 0, 0, 0, 0, 0, 0, 0, 0, 0],\n",
      "       dtype=torch.uint8)), (tensor([0, 0, 0, 0, 0, 1, 0, 0, 0, 0, 0, 0, 0, 0, 0, 1, 0, 0, 0, 1, 1, 0, 1, 1],\n",
      "       dtype=torch.uint8), tensor([1., 0., 0., 0.]), tensor([0, 0, 1, 0], dtype=torch.uint8), -1, tensor([0, 0, 0, 0, 0, 0, 0, 0, 0, 0, 0, 0, 0, 0, 0, 0, 0, 0, 0, 0, 0, 0, 0, 0],\n",
      "       dtype=torch.uint8)), (tensor([0, 0, 0, 0, 0, 1, 0, 0, 0, 0, 0, 0, 0, 0, 0, 1, 0, 0, 0, 1, 1, 0, 1, 1],\n",
      "       dtype=torch.uint8), tensor([1., 0., 0., 0.]), tensor([0, 0, 0, 1], dtype=torch.uint8), -1, tensor([0, 0, 0, 0, 0, 0, 0, 0, 0, 0, 0, 0, 0, 0, 0, 0, 0, 0, 0, 0, 0, 0, 0, 0],\n",
      "       dtype=torch.uint8))])\n"
     ]
    }
   ],
   "source": [
    "print(env.step(policy))"
   ],
   "metadata": {
    "collapsed": false,
    "ExecuteTime": {
     "end_time": "2024-11-30T05:00:20.099623Z",
     "start_time": "2024-11-30T05:00:20.005896800Z"
    }
   },
   "id": "9f802e248e456da9",
   "execution_count": 27
  },
  {
   "cell_type": "code",
   "outputs": [],
   "source": [
    "env.reset()\n",
    "replay = experience_replay.ExperienceReplay(1000, env)\n",
    "replay.gather(policy)"
   ],
   "metadata": {
    "collapsed": false,
    "ExecuteTime": {
     "end_time": "2024-11-30T05:00:20.268613Z",
     "start_time": "2024-11-30T05:00:20.100624700Z"
    }
   },
   "id": "7e63e7dc9b72e542",
   "execution_count": 28
  },
  {
   "cell_type": "code",
   "outputs": [],
   "source": [
    "a, b, c, d, e = replay.sample(batch_size=2)"
   ],
   "metadata": {
    "collapsed": false,
    "ExecuteTime": {
     "end_time": "2024-11-30T05:00:20.362301500Z",
     "start_time": "2024-11-30T05:00:20.270090900Z"
    }
   },
   "id": "5cb028d89cce6af9",
   "execution_count": 29
  },
  {
   "cell_type": "code",
   "outputs": [
    {
     "name": "stdout",
     "output_type": "stream",
     "text": [
      "tensor([[0., 0., 0., 0., 0., 1., 0., 0., 0., 0., 0., 0., 0., 0., 0., 0., 1., 1.,\n",
      "         1., 1., 0., 0., 0., 1.],\n",
      "        [0., 0., 0., 0., 0., 1., 0., 0., 0., 0., 0., 0., 0., 0., 0., 1., 0., 0.,\n",
      "         0., 1., 1., 0., 1., 1.]], device='cuda:0')\n",
      "tensor([[1., 0., 0., 0.],\n",
      "        [1., 0., 0., 0.]], device='cuda:0')\n",
      "tensor([[1., 0., 0., 0.],\n",
      "        [0., 1., 0., 0.]], device='cuda:0')\n",
      "tensor([ 1., -1.], device='cuda:0')\n",
      "tensor([[0., 0., 0., 0., 0., 0., 0., 0., 0., 0., 0., 0., 0., 0., 0., 0., 0., 0., 0., 0., 0., 0., 0., 0.],\n",
      "        [0., 0., 0., 0., 0., 0., 0., 0., 0., 0., 0., 0., 0., 0., 0., 0., 0., 0., 0., 0., 0., 0., 0., 0.]],\n",
      "       device='cuda:0')\n"
     ]
    }
   ],
   "source": [
    "print(a)\n",
    "print(b)\n",
    "print(c)\n",
    "print(d)\n",
    "print(e)"
   ],
   "metadata": {
    "collapsed": false,
    "ExecuteTime": {
     "end_time": "2024-11-30T05:00:20.473287Z",
     "start_time": "2024-11-30T05:00:20.363462700Z"
    }
   },
   "id": "a81e4a0ec604c253",
   "execution_count": 30
  },
  {
   "cell_type": "code",
   "outputs": [
    {
     "data": {
      "text/plain": "<Figure size 500x500 with 1 Axes>",
      "image/png": "[encoded data removed]"
     },
     "metadata": {},
     "output_type": "display_data"
    }
   ],
   "source": [
    "import matplotlib.pyplot as plt\n",
    "\n",
    "e = replay.get_episode(policy)\n",
    "fig, ax = plt.subplots(figsize=(5, 5))\n",
    "b = simulator.simulate(fig, ax, e)\n",
    "plt.show()"
   ],
   "metadata": {
    "collapsed": false,
    "ExecuteTime": {
     "end_time": "2024-11-30T05:00:20.628023800Z",
     "start_time": "2024-11-30T05:00:20.474874700Z"
    }
   },
   "id": "a532374b212a17fd",
   "execution_count": 31
  },
  {
   "cell_type": "code",
   "outputs": [],
   "source": [
    "from torch import optim\n",
    "\n",
    "qmodel = qmodel.QModel(lambda x: 0, (30, 20, 20))\n",
    "state = torch.randn(30).unsqueeze(0).to('cuda')\n",
    "a = qmodel.predict(state).unsqueeze(0)\n",
    "qmodel.update_target()\n",
    "b = qmodel.predict(state).unsqueeze(0)\n",
    "r = torch.tensor([1]).to('cuda')\n",
    "s2 = torch.randn(30).unsqueeze(0).to('cuda')\n",
    "t = (state, a, b, r, s2)\n",
    "optimizer = optim.Adam(qmodel.net.parameters())\n",
    "qmodel.train(t, optimizer)\n"
   ],
   "metadata": {
    "collapsed": false,
    "ExecuteTime": {
     "end_time": "2024-11-30T08:25:42.353049500Z",
     "start_time": "2024-11-30T08:25:42.132980700Z"
    }
   },
   "id": "3b55df4b3c14bdde",
   "execution_count": 59
  },
  {
   "cell_type": "code",
   "outputs": [
    {
     "name": "stdout",
     "output_type": "stream",
     "text": [
      "[1.0243576765060425]\n"
     ]
    }
   ],
   "source": [
    "print(qmodel.losses)"
   ],
   "metadata": {
    "collapsed": false,
    "ExecuteTime": {
     "end_time": "2024-11-30T08:25:46.217449800Z",
     "start_time": "2024-11-30T08:25:45.999317500Z"
    }
   },
   "id": "153e257d10827279",
   "execution_count": 60
  },
  {
   "cell_type": "code",
   "outputs": [],
   "source": [
    "qmodel.save_model('model/state_dict.pth')\n",
    "qmodel.load_model('model/state_dict.pth')"
   ],
   "metadata": {
    "collapsed": false,
    "ExecuteTime": {
     "end_time": "2024-11-30T08:26:31.408072800Z",
     "start_time": "2024-11-30T08:26:30.962102300Z"
    }
   },
   "id": "4b8d6a8a34791ce7",
   "execution_count": 62
  },
  {
   "cell_type": "code",
   "outputs": [],
   "source": [],
   "metadata": {
    "collapsed": false
   },
   "id": "c848e7647c123f53"
  }
 ],
 "metadata": {
  "kernelspec": {
   "display_name": "Python 3",
   "language": "python",
   "name": "python3"
  },
  "language_info": {
   "codemirror_mode": {
    "name": "ipython",
    "version": 2
   },
   "file_extension": ".py",
   "mimetype": "text/x-python",
   "name": "python",
   "nbconvert_exporter": "python",
   "pygments_lexer": "ipython2",
   "version": "2.7.6"
  }
 },
 "nbformat": 4,
 "nbformat_minor": 5
}
